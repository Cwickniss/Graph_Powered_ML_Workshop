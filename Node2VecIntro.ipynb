{
  "nbformat": 4,
  "nbformat_minor": 0,
  "metadata": {
    "colab": {
      "provenance": []
    },
    "kernelspec": {
      "name": "python3",
      "display_name": "Python 3"
    },
    "language_info": {
      "name": "python"
    }
  },
  "cells": [
    {
      "cell_type": "markdown",
      "source": [
        "# Basic Node2Vec  and Embeddings\n"
      ],
      "metadata": {
        "id": "sLG5PA8afQ82"
      }
    },
    {
      "cell_type": "markdown",
      "source": [
        "<a href=\"https://colab.research.google.com/github/joerg84/Graph_Powered_ML_Workshop/blob/master/Node2VecIntro.ipynb\" target=\"_parent\"><img src=\"https://colab.research.google.com/assets/colab-badge.svg\" alt=\"Open In Colab\"/></a>"
      ],
      "metadata": {
        "id": "2Op9SLvjfINw"
      }
    },
    {
      "cell_type": "markdown",
      "source": [
        "In this notebook we will explore a basic example using our favorite Karate Club Graph and Node2Vec.\n",
        "\n",
        "As usual, setup and install everything required. Due to requirements of the node2vec we need an older version of numpy than preinstalled in Colab, hence we need to restart the runtime (and cannot capute the annoying output...)."
      ],
      "metadata": {
        "id": "2MDNGkpabLvt"
      }
    },
    {
      "cell_type": "code",
      "execution_count": null,
      "metadata": {
        "id": "h7aqXF1USuLR"
      },
      "outputs": [],
      "source": [
        "!pip3 install numpy==1.19 \n",
        "!pip3 install node2vec==0.4.6\n",
        "!pip3 install gensim==3.5.0\n",
        "!pip3 install pandas"
      ]
    },
    {
      "cell_type": "code",
      "source": [
        "import networkx as nx\n",
        "from node2vec import Node2Vec\n",
        "import pandas as pd"
      ],
      "metadata": {
        "id": "SqicpezVZhMa"
      },
      "execution_count": null,
      "outputs": []
    },
    {
      "cell_type": "code",
      "source": [
        "# Load the Zachary's Karate Club as a NetworkX Graph object\n",
        "KCG = nx.karate_club_graph() # Bachkup shortcut :-)\n",
        "\n",
        "print(KCG.nodes[1])\n",
        "print(KCG.nodes[33])\n",
        "#for node in KCG.nodes:\n",
        "#  print(str(node+1)+\",\" + str(KCG.nodes[node]['club']))\n",
        "\n",
        "nx.draw(KCG, with_labels=True, font_weight='bold')"
      ],
      "metadata": {
        "id": "ozOPGBryUEcf"
      },
      "execution_count": null,
      "outputs": []
    },
    {
      "cell_type": "code",
      "source": [
        "# Generate Random walks\n",
        "node2vec = Node2Vec(KCG, dimensions=2, walk_length=10, num_walks=50, workers=4)  # Use temp_folder for big graphs\n",
        "\n",
        "# Embed nodes\n",
        "model = node2vec.fit(window=4, min_count=1, batch_words=4)  \n",
        "\n",
        "# Look for most similar nodes for Mr Hi\n",
        "model.wv.most_similar('1')  # Output node names are always strings"
      ],
      "metadata": {
        "id": "QQ6OAWpDS46I"
      },
      "execution_count": null,
      "outputs": []
    },
    {
      "cell_type": "markdown",
      "source": [
        "Let us combine the embedding with the actual club name after the split."
      ],
      "metadata": {
        "id": "kYAyE9dVbKIC"
      }
    },
    {
      "cell_type": "code",
      "source": [
        "embeddings = []\n",
        "for node in KCG.nodes:\n",
        "  embedding = list(model.wv.get_vector(str(node)))\n",
        "  club = KCG.nodes[node]['club']\n",
        "  embeddings.append(embedding + [club])\n",
        "\n",
        "df = pd.DataFrame(embeddings, columns=['x', 'y', 'club'])\n",
        "print(df)"
      ],
      "metadata": {
        "id": "UD86eLHgY6_t"
      },
      "execution_count": null,
      "outputs": []
    },
    {
      "cell_type": "markdown",
      "source": [
        "Let us print the embedded nodes together with the color of the actual resulting club."
      ],
      "metadata": {
        "id": "tlDWebvYenZB"
      }
    },
    {
      "cell_type": "code",
      "source": [
        "colors = ['red' if x == 'Mr. Hi' else 'blue' for x in df.club]\n",
        "df.plot.scatter(x='x', y='y', s=50, c=colors)"
      ],
      "metadata": {
        "id": "eVLmhXb-aadJ"
      },
      "execution_count": null,
      "outputs": []
    }
  ]
}