{
 "cells": [
  {
   "cell_type": "markdown",
   "metadata": {
    "colab_type": "text",
    "id": "c6tpRnhgdAZ5"
   },
   "source": [
    "# Graph Properties"
   ]
  },
  {
   "cell_type": "markdown",
   "metadata": {
    "colab_type": "text",
    "id": "SGQeJ6RAdAZ6"
   },
   "source": [
    "<a href=\"https://colab.research.google.com/github/joerg84/Graph_Powered_ML_Workshop/blob/master/Graph_properties.ipynb\" target=\"_parent\"><img src=\"https://colab.research.google.com/assets/colab-badge.svg\" alt=\"Open In Colab\"/></a>"
   ]
  },
  {
   "cell_type": "markdown",
   "metadata": {
    "colab_type": "text",
    "id": "sxMRG10ldAZ6"
   },
   "source": [
    "First, setting up our environment."
   ]
  },
  {
   "cell_type": "code",
   "execution_count": null,
   "metadata": {
    "colab": {},
    "colab_type": "code",
    "id": "q3i99QX_dAZ7"
   },
   "outputs": [],
   "source": [
    "%%capture\n",
    "!git clone https://github.com/joerg84/Graph_Powered_ML_Workshop.git\n",
    "!rsync -av Graph_Powered_ML_Workshop/ ./ --exclude=.git\n",
    "!pip3 install networkx\n",
    "!pip3 install matplotlib"
   ]
  },
  {
   "cell_type": "code",
   "execution_count": null,
   "metadata": {
    "colab": {},
    "colab_type": "code",
    "id": "aVpLp6xZdAZ-"
   },
   "outputs": [],
   "source": [
    "import networkx as nx\n",
    "import matplotlib.pyplot as plt"
   ]
  },
  {
   "cell_type": "markdown",
   "metadata": {
    "colab_type": "text",
    "id": "2qomWffKME4b"
   },
   "source": [
    "# First Graph"
   ]
  },
  {
   "cell_type": "code",
   "execution_count": null,
   "metadata": {
    "colab": {},
    "colab_type": "code",
    "id": "PLrKCPgudAaB"
   },
   "outputs": [],
   "source": [
    "G = nx.Graph()\n",
    "G.add_edges_from([(1, 2), (2, 3), (3,4), (4,1)])\n",
    "\n",
    "nx.draw(G, with_labels=True, font_weight='bold')\n",
    "\n",
    "print(\"Vertices:\")\n",
    "print(list(G.nodes))\n",
    "\n",
    "print(\"Edges:\")\n",
    "print(list(G.edges))\n",
    "\n",
    "print(\"Degree deg(1):\")\n",
    "print(G.degree[1])\n",
    "\n",
    "print(\"Eccentricity e(1):\")\n",
    "print(nx.eccentricity(G,1))\n",
    "\n",
    "print(\"Diameter d(G):\")\n",
    "print(nx.diameter(G))"
   ]
  },
  {
   "cell_type": "markdown",
   "metadata": {
    "colab_type": "text",
    "id": "sffwOK9aO6yF"
   },
   "source": [
    "# Graph Properties"
   ]
  },
  {
   "cell_type": "code",
   "execution_count": null,
   "metadata": {
    "colab": {},
    "colab_type": "code",
    "id": "ymlwlwjQO970"
   },
   "outputs": [],
   "source": [
    "# Directed Graph\n",
    "dg = nx.DiGraph()\n",
    "dg.add_edges_from([(1, 2), (2, 3), (3,4), (4,1)])\n",
    "nx.draw(dg, with_labels=True, font_weight='bold')\n",
    "\n",
    "print(\"Degree:\")\n",
    "print(dg.degree[1])\n",
    "print(\"Indegree:\")\n",
    "print(dg.in_degree[1])\n",
    "print(\"Outdegree:\")\n",
    "print(dg.out_degree[1])\n"
   ]
  },
  {
   "cell_type": "code",
   "execution_count": null,
   "metadata": {
    "colab": {},
    "colab_type": "code",
    "id": "rL1kPAcPQCeP"
   },
   "outputs": [],
   "source": [
    "# Weighted Graph\n",
    "wg = nx.Graph()\n",
    "wg.add_edge(1, 2, weight=0.54)\n",
    "wg.add_weighted_edges_from([ (2, 3, 0.75), (3, 4, 1), (4, 1, 1.25)])\n",
    "nx.draw(wg, with_labels=True, font_weight='bold')\n"
   ]
  },
  {
   "cell_type": "code",
   "execution_count": null,
   "metadata": {
    "colab": {},
    "colab_type": "code",
    "id": "0lsBSMzsdAaJ"
   },
   "outputs": [],
   "source": [
    "# Complete Graph\n",
    "com = nx.complete_graph(10)\n",
    "nx.draw(com, with_labels=True, font_weight='bold')"
   ]
  },
  {
   "cell_type": "code",
   "execution_count": null,
   "metadata": {
    "colab": {},
    "colab_type": "code",
    "id": "Kt0iDeJQUiEV"
   },
   "outputs": [],
   "source": [
    "# Bipartite Graph\n",
    "B = nx.Graph()\n",
    "# Add nodes with the node attribute \"bipartite\"\n",
    "B.add_nodes_from([1, 2, 3, 4], bipartite=0)\n",
    "B.add_nodes_from([\"a\", \"b\", \"c\"], bipartite=1)\n",
    "# Add edges only between nodes of opposite node sets\n",
    "B.add_edges_from([(1, \"a\"), (1, \"b\"), (2, \"b\"), (2, \"c\"), (3, \"c\"), (4, \"a\")])\n",
    "\n",
    "nx.draw(B, with_labels=True, font_weight='bold')\n",
    "\n",
    "set1, set2 = nx.bipartite.sets(B)\n",
    "print(set1)\n",
    "print(set2)"
   ]
  },
  {
   "cell_type": "markdown",
   "metadata": {
    "colab_type": "text",
    "id": "oMTHrnX6To9A"
   },
   "source": [
    "# Traversals"
   ]
  },
  {
   "cell_type": "code",
   "execution_count": null,
   "metadata": {
    "colab": {},
    "colab_type": "code",
    "id": "-9EyKdR5TtDY"
   },
   "outputs": [],
   "source": [
    "S = nx.nx.complete_graph(5)\n",
    "nx.draw(S, with_labels=True, font_weight='bold')\n",
    "\n",
    "# Depth First\n",
    "print(list(nx.dfs_edges(S, source=0)))\n",
    "\n",
    "# Breadth First\n",
    "print(list(nx.bfs_edges(S, source=0)))"
   ]
  },
  {
   "cell_type": "markdown",
   "metadata": {
    "colab_type": "text",
    "id": "5QL9Bu0-fbnp"
   },
   "source": [
    "# Shortest Path"
   ]
  },
  {
   "cell_type": "code",
   "execution_count": null,
   "metadata": {
    "colab": {
     "base_uri": "https://localhost:8080/",
     "height": 34
    },
    "colab_type": "code",
    "id": "GJ5NjOXHgMVP",
    "outputId": "c6dec3dd-efd1-461e-b6f4-7ece85eaaaf7"
   },
   "outputs": [],
   "source": [
    "G = nx.path_graph(5)\n",
    "nx.draw(G, with_labels=True, font_weight='bold')\n",
    "\n",
    "# Dijkstra\n",
    "print(nx.dijkstra_path(G, 0, 4))\n",
    "\n",
    "# Bellmann Ford \n",
    "print(nx.bellman_ford_path(G, 0, 4))\n",
    "\n",
    "# TODO: Test with negative weights"
   ]
  },
  {
   "cell_type": "markdown",
   "metadata": {
    "colab_type": "text",
    "id": "vD4xSX6fgKAm"
   },
   "source": [
    "See more: https://networkx.github.io/documentation/stable/reference/algorithms/shortest_paths.html"
   ]
  },
  {
   "cell_type": "markdown",
   "metadata": {
    "colab_type": "text",
    "id": "aCbTwSljlL5t"
   },
   "source": [
    "# Minimal Spanning Tree"
   ]
  },
  {
   "cell_type": "code",
   "execution_count": null,
   "metadata": {
    "colab": {
     "base_uri": "https://localhost:8080/",
     "height": 50
    },
    "colab_type": "code",
    "id": "iRE-4IZjlPtZ",
    "outputId": "9cc72ea1-cd56-4a2e-bf03-4cc7358349f8"
   },
   "outputs": [],
   "source": [
    "from networkx.algorithms import tree\n",
    "G = nx.cycle_graph(4)\n",
    "G.add_edge(0, 3, weight=2)\n",
    "nx.draw(G, with_labels=True, font_weight='bold')\n",
    "\n",
    "# Kruskal's Algorithm\n",
    "mst = tree.minimum_spanning_edges(G, algorithm=\"kruskal\", data=False)\n",
    "edgelist = list(mst)\n",
    "print(sorted(sorted(e) for e in edgelist))\n",
    "\n",
    "# Prim's Algorithm\n",
    "mst = tree.minimum_spanning_edges(G, algorithm=\"prim\", data=False)\n",
    "edgelist = list(mst)\n",
    "print(sorted(sorted(e) for e in edgelist))"
   ]
  },
  {
   "cell_type": "markdown",
   "metadata": {
    "colab_type": "text",
    "id": "AJ95moO0lwDu"
   },
   "source": [
    "# Cycle Detection\n"
   ]
  },
  {
   "cell_type": "code",
   "execution_count": null,
   "metadata": {
    "colab": {
     "base_uri": "https://localhost:8080/",
     "height": 336
    },
    "colab_type": "code",
    "id": "6vJw2dOmnHfd",
    "outputId": "ad8d499f-6438-43b7-e7d8-294840339aa7"
   },
   "outputs": [],
   "source": [
    "edges = [(0, 0), (0, 1), (0, 2), (1, 2), (2, 0), (2, 1), (2, 2)]\n",
    "G = nx.DiGraph(edges)\n",
    "nx.draw(G, with_labels=True, font_weight='bold')\n",
    "\n",
    "list(nx.simple_cycles(G))"
   ]
  },
  {
   "cell_type": "markdown",
   "metadata": {
    "colab_type": "text",
    "id": "G1cj-lkMpSIU"
   },
   "source": [
    "# Community Detection"
   ]
  },
  {
   "cell_type": "code",
   "execution_count": null,
   "metadata": {
    "colab": {
     "base_uri": "https://localhost:8080/",
     "height": 336
    },
    "colab_type": "code",
    "id": "ewuhVS4NpRSY",
    "outputId": "dd5dc63b-a5c7-4bb2-8338-b0f8aa015476"
   },
   "outputs": [],
   "source": [
    "G = nx.cycle_graph(4, create_using=nx.DiGraph())\n",
    "nx.add_cycle(G, [10, 11, 12])\n",
    "nx.draw(G, with_labels=True, font_weight='bold')\n",
    "\n",
    "print(sorted(nx.strongly_connected_components(G), key=len, reverse=True))"
   ]
  },
  {
   "cell_type": "markdown",
   "metadata": {
    "colab_type": "text",
    "id": "GKI02MN3rK06"
   },
   "source": [
    "# Topological Sort\n"
   ]
  },
  {
   "cell_type": "code",
   "execution_count": null,
   "metadata": {
    "colab": {
     "base_uri": "https://localhost:8080/",
     "height": 336
    },
    "colab_type": "code",
    "id": "JFDtjll6rODJ",
    "outputId": "24ea3202-4ea3-4f10-b2c0-767e8ad6dddd"
   },
   "outputs": [],
   "source": [
    "DG = nx.DiGraph([(1, 2), (2, 3), (2, 4)])\n",
    "nx.draw(DG, with_labels=True, font_weight='bold')\n",
    "\n",
    "list(nx.all_topological_sorts(DG))"
   ]
  },
  {
   "cell_type": "markdown",
   "metadata": {
    "colab_type": "text",
    "id": "9TzhLxPNv_lq"
   },
   "source": [
    "# Maximum Flow"
   ]
  },
  {
   "cell_type": "code",
   "execution_count": null,
   "metadata": {
    "colab": {
     "base_uri": "https://localhost:8080/",
     "height": 373
    },
    "colab_type": "code",
    "id": "HAYiLupFwDMa",
    "outputId": "b9dba486-aa1d-42c0-af11-0a423133d0ba"
   },
   "outputs": [],
   "source": [
    "G = nx.DiGraph()\n",
    "G.add_edge(\"x\", \"a\", capacity=3.0)\n",
    "G.add_edge(\"x\", \"b\", capacity=1.0)\n",
    "G.add_edge(\"a\", \"c\", capacity=3.0)\n",
    "G.add_edge(\"b\", \"c\", capacity=5.0)\n",
    "G.add_edge(\"b\", \"d\", capacity=4.0)\n",
    "G.add_edge(\"d\", \"e\", capacity=2.0)\n",
    "G.add_edge(\"c\", \"y\", capacity=2.0)\n",
    "G.add_edge(\"e\", \"y\", capacity=3.0)\n",
    "nx.draw(G, with_labels=True, font_weight='bold')\n",
    "\n",
    "flow_value, flow_dict = nx.maximum_flow(G, \"x\", \"y\")\n",
    "print(flow_value)\n",
    "print(flow_dict)\n"
   ]
  },
  {
   "cell_type": "markdown",
   "metadata": {
    "colab_type": "text",
    "id": "FAmQddSmr8md"
   },
   "source": [
    "# Centrality "
   ]
  },
  {
   "cell_type": "code",
   "execution_count": null,
   "metadata": {
    "colab": {
     "base_uri": "https://localhost:8080/",
     "height": 487
    },
    "colab_type": "code",
    "id": "kDTs8TjusBER",
    "outputId": "dac91392-0c11-4774-9ea6-f49c7369cd19"
   },
   "outputs": [],
   "source": [
    "RG = nx.gnp_random_graph(10, 0.3)\n",
    "nx.draw(RG, with_labels=True, font_weight='bold')\n",
    "\n",
    "nx.betweenness_centrality(RG)"
   ]
  },
  {
   "cell_type": "markdown",
   "metadata": {
    "colab_type": "text",
    "id": "2PrOTIe0sBkk"
   },
   "source": [
    "Check (and try) more: https://networkx.github.io/documentation/stable/reference/algorithms/centrality.html"
   ]
  },
  {
   "cell_type": "markdown",
   "metadata": {
    "colab_type": "text",
    "id": "DeBE6ll0S5ek"
   },
   "source": [
    "Check more: https://networkx.github.io/documentation/stable/reference/algorithms/index.html"
   ]
  }
 ],
 "metadata": {
  "colab": {
   "name": "Graph_properties.ipynb",
   "provenance": []
  },
  "kernelspec": {
   "display_name": "Python 3",
   "language": "python",
   "name": "python3"
  },
  "language_info": {
   "codemirror_mode": {
    "name": "ipython",
    "version": 3
   },
   "file_extension": ".py",
   "mimetype": "text/x-python",
   "name": "python",
   "nbconvert_exporter": "python",
   "pygments_lexer": "ipython3",
   "version": "3.7.7"
  }
 },
 "nbformat": 4,
 "nbformat_minor": 0
}
